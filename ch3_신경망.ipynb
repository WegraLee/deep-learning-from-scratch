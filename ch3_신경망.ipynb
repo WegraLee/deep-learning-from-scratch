{
  "nbformat": 4,
  "nbformat_minor": 0,
  "metadata": {
    "colab": {
      "provenance": [],
      "gpuType": "T4",
      "authorship_tag": "ABX9TyNla1JlYn5M1WbE8KFnyv6o",
      "include_colab_link": true
    },
    "kernelspec": {
      "name": "python3",
      "display_name": "Python 3"
    },
    "language_info": {
      "name": "python"
    },
    "accelerator": "GPU"
  },
  "cells": [
    {
      "cell_type": "markdown",
      "metadata": {
        "id": "view-in-github",
        "colab_type": "text"
      },
      "source": [
        "<a href=\"https://colab.research.google.com/github/gagyeomkim/deep-learning-from-scratch1/blob/gagyeomkim/ch3_%EC%8B%A0%EA%B2%BD%EB%A7%9D.ipynb\" target=\"_parent\"><img src=\"https://colab.research.google.com/assets/colab-badge.svg\" alt=\"Open In Colab\"/></a>"
      ]
    },
    {
      "cell_type": "markdown",
      "source": [
        "# 3.1 퍼셉트론에서 신경망으로\n",
        "가중치 매개변수의 적절한 값을 데이터로부터 자동으로 학습하는 능력은 신경망의 중요한 성질"
      ],
      "metadata": {
        "id": "9TJ0T9txlLv0"
      }
    },
    {
      "cell_type": "markdown",
      "source": [
        "## 신경망의 예\n",
        "\n",
        "|입력층|은닉층|출력층|\n",
        "|:---:|:---:|:---:|\n",
        "|가장 왼쪽줄|중간줄|맨 오른쪽 줄|\n",
        "\n"
      ],
      "metadata": {
        "id": "rId0h4qwmKnA"
      }
    },
    {
      "cell_type": "markdown",
      "source": [
        "## 퍼셉트론 복습"
      ],
      "metadata": {
        "id": "C4QbSnylmzEo"
      }
    },
    {
      "cell_type": "markdown",
      "source": [
        "## 활성화 함수의 등장"
      ],
      "metadata": {
        "id": "nsoxko6lm1i8"
      }
    },
    {
      "cell_type": "markdown",
      "source": [
        "- **활성화 함수(activation function)** : **입력신호의 총합**을 **출력신호**로 변환하는 함수\n",
        "- **뉴런**과 **노드**란 용어는 같은 의미\n",
        "- 단순 퍼셉트론 : 단층 네트워크에서 **계단함수**를 활성화 함수로 사용한 모델\n",
        "    - 계단 함수 : 임계값을 경계로 출력이 바뀌는 함수\n",
        "- 다층 퍼셉트론 : 신경망\n",
        "    - 신경망 : **여러 층**으로 구성되고 시그모이드 함수등의 **매끈한 활성화 함수**를 사용하는 네트워크"
      ],
      "metadata": {
        "id": "rG8e2TGWnuln"
      }
    },
    {
      "cell_type": "markdown",
      "source": [
        "# 3.2 활성화함수\n",
        "- 계단함수 : 임계값을 경계로 출력이 바뀌는 함수\n",
        "- 퍼셉트론과 신경망의 주된 차이는 **활성화함수**뿐"
      ],
      "metadata": {
        "id": "LsSLH-BCp3YM"
      }
    },
    {
      "cell_type": "code",
      "execution_count": 52,
      "metadata": {
        "id": "G3o3eZeikw-V"
      },
      "outputs": [],
      "source": [
        "# 계단 함수\n",
        "# 이 구현은 단순하고 쉽지만, 인수는 실수(부동소수점)만 받아들임\n",
        "def step_function(x):\n",
        "    if x>0:\n",
        "        return 1\n",
        "    else:\n",
        "        return 0"
      ]
    },
    {
      "cell_type": "code",
      "source": [
        "# 넘파이를 이용한 계단함수\n",
        "def step_function(x):\n",
        "    y = x > 0\n",
        "    return y.astype(np.int)"
      ],
      "metadata": {
        "id": "y6Amj_Twqc2i"
      },
      "execution_count": 53,
      "outputs": []
    },
    {
      "cell_type": "code",
      "source": [
        "import numpy as np\n",
        "x = np.array([-1.0, 1.0, 2.0])\n",
        "x"
      ],
      "metadata": {
        "colab": {
          "base_uri": "https://localhost:8080/"
        },
        "id": "NuPaXom8qlRn",
        "outputId": "6f7af2d2-ae71-4af7-9dca-6421f2b70fcf"
      },
      "execution_count": 54,
      "outputs": [
        {
          "output_type": "execute_result",
          "data": {
            "text/plain": [
              "array([-1.,  1.,  2.])"
            ]
          },
          "metadata": {},
          "execution_count": 54
        }
      ]
    },
    {
      "cell_type": "code",
      "source": [
        "y = x > 0\n",
        "y"
      ],
      "metadata": {
        "colab": {
          "base_uri": "https://localhost:8080/"
        },
        "id": "Gt8oAFsZqq_-",
        "outputId": "94eceb5a-7c92-4e12-a06e-9fda97c57fd3"
      },
      "execution_count": 55,
      "outputs": [
        {
          "output_type": "execute_result",
          "data": {
            "text/plain": [
              "array([False,  True,  True])"
            ]
          },
          "metadata": {},
          "execution_count": 55
        }
      ]
    },
    {
      "cell_type": "markdown",
      "source": [
        "넘파이 배열의 자료형을 변환할 때는 `astype()` 메서드를 이용한다.\n",
        "- 인자 : 원하는 자료형\n",
        "-파이썬에서는 bool을 int로 변환하면 아래와 같이 변환됨.\n",
        "    - `True` -> 1\n",
        "    - `False` -> 0"
      ],
      "metadata": {
        "id": "TO0jj1a0ryNI"
      }
    },
    {
      "cell_type": "code",
      "source": [
        "y = y.astype(np.int64)\n",
        "y"
      ],
      "metadata": {
        "colab": {
          "base_uri": "https://localhost:8080/"
        },
        "id": "Nwwb9BxLqt7h",
        "outputId": "76570866-0438-4aca-cfe6-af69618e75c3"
      },
      "execution_count": 56,
      "outputs": [
        {
          "output_type": "execute_result",
          "data": {
            "text/plain": [
              "array([0, 1, 1])"
            ]
          },
          "metadata": {},
          "execution_count": 56
        }
      ]
    },
    {
      "cell_type": "markdown",
      "source": [
        "## 계단 함수의 그래프"
      ],
      "metadata": {
        "id": "y7DpUnn1svvP"
      }
    },
    {
      "cell_type": "code",
      "source": [
        "import numpy as np\n",
        "import matplotlib.pylab as plt\n",
        "\n",
        "def step_function(x):\n",
        "    return np.array(x > 0, dtype = np.int64)\n",
        "\n",
        "x = np.arange(-5.0, 5.0, 0.1)\n",
        "y = step_function(x)\n",
        "plt.plot(x, y)\n",
        "plt.ylim(-0.1, 1.1) #y축의 범위 지정\n",
        "plt.show()"
      ],
      "metadata": {
        "colab": {
          "base_uri": "https://localhost:8080/",
          "height": 430
        },
        "id": "u261vKpDrmRC",
        "outputId": "38c08565-89de-4d8f-cb19-2297aee312c9"
      },
      "execution_count": 57,
      "outputs": [
        {
          "output_type": "display_data",
          "data": {
            "text/plain": [
              "<Figure size 640x480 with 1 Axes>"
            ],
            "image/png": "[encoded data removed]"
          },
          "metadata": {}
        }
      ]
    },
    {
      "cell_type": "markdown",
      "source": [
        "## 시그모이드 함수 구현하기"
      ],
      "metadata": {
        "id": "yChOS-y_tmkF"
      }
    },
    {
      "cell_type": "code",
      "source": [
        "def sigmoid(x):\n",
        "    return 1 / (1+np.exp(-x))"
      ],
      "metadata": {
        "id": "YhvdeorWtQKe"
      },
      "execution_count": 58,
      "outputs": []
    },
    {
      "cell_type": "markdown",
      "source": [
        "브로드캐스트 : 넘파이 배열과 스칼라 값의 연산을 넘파이 배열의 원소 각각과 스칼라 값의 연산으로 바꿔 수행하는 것"
      ],
      "metadata": {
        "id": "_YSyko-Ct8BT"
      }
    },
    {
      "cell_type": "code",
      "source": [
        "x = np.array([-1.0, 1.0, 2.0])\n",
        "sigmoid(x)  #인수가 넘파이 배열이어도 올바른 결과가 나온다. <- 브로드캐스트 덕분"
      ],
      "metadata": {
        "colab": {
          "base_uri": "https://localhost:8080/"
        },
        "id": "8WGIK857tv1T",
        "outputId": "70e766fa-732c-4a6c-c3ff-c05c92e44d93"
      },
      "execution_count": 59,
      "outputs": [
        {
          "output_type": "execute_result",
          "data": {
            "text/plain": [
              "array([0.26894142, 0.73105858, 0.88079708])"
            ]
          },
          "metadata": {},
          "execution_count": 59
        }
      ]
    },
    {
      "cell_type": "code",
      "source": [
        "# 브로드캐스트 복습\n",
        "t = np.array([1.0, 2.0, 3.0])\n",
        "print(1.0+t)\n",
        "print(1.0/t)"
      ],
      "metadata": {
        "colab": {
          "base_uri": "https://localhost:8080/"
        },
        "id": "PjzJ5zypt11H",
        "outputId": "65ef8d2e-7ea1-468d-96c1-26ff04465668"
      },
      "execution_count": 60,
      "outputs": [
        {
          "output_type": "stream",
          "name": "stdout",
          "text": [
            "[2. 3. 4.]\n",
            "[1.         0.5        0.33333333]\n"
          ]
        }
      ]
    },
    {
      "cell_type": "code",
      "source": [
        "x = np.arange(-5.0, 5.0, 0.1)\n",
        "y = sigmoid(x)\n",
        "plt.plot(x, y)\n",
        "plt.ylim(-0.1 , 1.1)    # y축 범위 지정\n",
        "plt.show()"
      ],
      "metadata": {
        "colab": {
          "base_uri": "https://localhost:8080/",
          "height": 430
        },
        "id": "LfUu-GnMuepm",
        "outputId": "7446027a-1d05-4b2b-f933-d14947c969f3"
      },
      "execution_count": 61,
      "outputs": [
        {
          "output_type": "display_data",
          "data": {
            "text/plain": [
              "<Figure size 640x480 with 1 Axes>"
            ],
            "image/png": "[encoded data removed]"
          },
          "metadata": {}
        }
      ]
    },
    {
      "cell_type": "markdown",
      "source": [
        "- 시그모이드 = s자모양"
      ],
      "metadata": {
        "id": "rjzXDDsouy03"
      }
    },
    {
      "cell_type": "markdown",
      "source": [
        "## 시그모이드 함수와 계단함수 비교\n",
        "1. 매끄러움의 차이 존재\n",
        "2. 둘 다 입력이 작을때의 출력은 0에 가깝고(혹은 0이고), 입력이 커지면 1에 가까워지는(혹은 1이 되는) 구조\n",
        "3. 입력이 아무리 작거나 커도 출력은 0에서 1사이"
      ],
      "metadata": {
        "id": "9htlTqAnwY6X"
      }
    },
    {
      "cell_type": "markdown",
      "source": [
        "## 비선형 함수\n",
        "계단 함수와 시그모이드 함수의 공통점은 둘 모두 **비선형 함수**라는 것\n",
        "* 함수 : 어떤 값을 입력하면 그에 따른 값을 돌려주는 '변환기'\n",
        "* 선형 함수 : 무언가를 입력했을 때 출력이 입력의 상수배만큼 변하는 함수\n",
        "* 비선형 함수 : 문자 그대로 선형이 아닌 함수\n",
        "\n",
        "신경망에서는 활성화 함수로 **비선형 함수**를 사용해야함\n",
        "- 선형함수를 이용하면 신경망의 층을 깊게 하는 의미가 없어지기 때문\n",
        "- 층을 쌓는 혜택을 얻고 싶다면 활성화 함수로는 반드시 비선형 함수를 사용해야함\n"
      ],
      "metadata": {
        "id": "HGfW3-mowqW4"
      }
    },
    {
      "cell_type": "markdown",
      "source": [
        "## ReLU 함수\n",
        "ReLU(Rectified Linear Unit, 렐루) : 입력이 0을 넘으면 그 입력을 그대로 출력하고, 0이하면 0을 출력하는 함수\n",
        "> Rectified는 '정류된'이란 뜻임. 정류는 전기회로 쪽 용어로, 예를들어 반파 정류 회로는 +/-가 반복되는 교류에서 -흐름을 차단하는 회로임. 즉, x가 0이하일 때를 차단하여 아무값도 출력하지 않는(0을 출력하는)것. 그래서 ReLU함수를 '정류된 선형함수'라고도 표현가능"
      ],
      "metadata": {
        "id": "OW3-81RYxTr2"
      }
    },
    {
      "cell_type": "code",
      "source": [
        "# ReLU 함수 구현\n",
        "def relu(x):\n",
        "    return np.maximum(0, x) #np.maximum()은 두 입력 중 큰 값을 선택해 반환하는 함수"
      ],
      "metadata": {
        "id": "smRgePBrx52U"
      },
      "execution_count": 62,
      "outputs": []
    },
    {
      "cell_type": "markdown",
      "source": [
        "# 3.3 다차원 배열의 계산"
      ],
      "metadata": {
        "id": "seMbFy4Sljas"
      }
    },
    {
      "cell_type": "markdown",
      "source": [
        "## 다차원 배열"
      ],
      "metadata": {
        "id": "BaxoLZCalqUu"
      }
    },
    {
      "cell_type": "code",
      "source": [
        "import numpy as np\n",
        "A = np.array([1,2,3,4])\n",
        "print(A)\n",
        "print(np.ndim(A))\n",
        "print(A.shape)\n",
        "print(A.shape[0])"
      ],
      "metadata": {
        "id": "wDBjz1V1uuf4",
        "colab": {
          "base_uri": "https://localhost:8080/"
        },
        "outputId": "c92f7320-a34d-4d73-ee4d-a124b3ddf45f"
      },
      "execution_count": 63,
      "outputs": [
        {
          "output_type": "stream",
          "name": "stdout",
          "text": [
            "[1 2 3 4]\n",
            "1\n",
            "(4,)\n",
            "4\n"
          ]
        }
      ]
    },
    {
      "cell_type": "code",
      "source": [
        "B = np.array([[1,2],[3,4],[5,6]])\n",
        "print(B)\n",
        "print(np.ndim(B))\n",
        "print(B.shape)"
      ],
      "metadata": {
        "colab": {
          "base_uri": "https://localhost:8080/"
        },
        "id": "LDsrLsPVly8r",
        "outputId": "9c41b18a-0cc6-4d08-9176-7fe0958c840e"
      },
      "execution_count": 64,
      "outputs": [
        {
          "output_type": "stream",
          "name": "stdout",
          "text": [
            "[[1 2]\n",
            " [3 4]\n",
            " [5 6]]\n",
            "2\n",
            "(3, 2)\n"
          ]
        }
      ]
    },
    {
      "cell_type": "markdown",
      "source": [
        "## 행렬의 곱"
      ],
      "metadata": {
        "id": "E0XH7lIfnjXD"
      }
    },
    {
      "cell_type": "code",
      "source": [
        "A = np.array([[1,2],[3,4]])\n",
        "print(A.shape)\n",
        "B = np.array([[5,6],[7,8]])\n",
        "print(B.shape)\n",
        "np.dot(A,B)"
      ],
      "metadata": {
        "colab": {
          "base_uri": "https://localhost:8080/"
        },
        "id": "vCOrxjmZmPT3",
        "outputId": "ca65fda3-8c5e-46cf-b272-bfd6ba62149d"
      },
      "execution_count": 65,
      "outputs": [
        {
          "output_type": "stream",
          "name": "stdout",
          "text": [
            "(2, 2)\n",
            "(2, 2)\n"
          ]
        },
        {
          "output_type": "execute_result",
          "data": {
            "text/plain": [
              "array([[19, 22],\n",
              "       [43, 50]])"
            ]
          },
          "metadata": {},
          "execution_count": 65
        }
      ]
    },
    {
      "cell_type": "code",
      "source": [
        "A = np.array([[1,2,3],[4,5,6]])\n",
        "print(A.shape)\n",
        "B = np.array([[1,2],[3,4],[5,6]])\n",
        "print(B.shape)\n",
        "np.dot(A,B)"
      ],
      "metadata": {
        "colab": {
          "base_uri": "https://localhost:8080/"
        },
        "id": "Uwb9LGHgmwih",
        "outputId": "379425e2-7c3f-47e3-81ae-4ded5cfc1b80"
      },
      "execution_count": 66,
      "outputs": [
        {
          "output_type": "stream",
          "name": "stdout",
          "text": [
            "(2, 3)\n",
            "(3, 2)\n"
          ]
        },
        {
          "output_type": "execute_result",
          "data": {
            "text/plain": [
              "array([[22, 28],\n",
              "       [49, 64]])"
            ]
          },
          "metadata": {},
          "execution_count": 66
        }
      ]
    },
    {
      "cell_type": "code",
      "source": [
        "A = np.array([[1,2,3],[4,5,6]])\n",
        "print(A.shape)\n",
        "C = np.array([[1,2],[3,4]])\n",
        "print(C.shape)\n",
        "np.dot(A,C) # 행렬 곱이 불가능"
      ],
      "metadata": {
        "colab": {
          "base_uri": "https://localhost:8080/",
          "height": 210
        },
        "id": "B8idm_M0nWEX",
        "outputId": "bd47888e-c5c6-4c8f-ea73-7652560be23a"
      },
      "execution_count": 67,
      "outputs": [
        {
          "output_type": "stream",
          "name": "stdout",
          "text": [
            "(2, 3)\n",
            "(2, 2)\n"
          ]
        },
        {
          "output_type": "error",
          "ename": "ValueError",
          "evalue": "shapes (2,3) and (2,2) not aligned: 3 (dim 1) != 2 (dim 0)",
          "traceback": [
            "\u001b[0;31m---------------------------------------------------------------------------\u001b[0m",
            "\u001b[0;31mValueError\u001b[0m                                Traceback (most recent call last)",
            "\u001b[0;32m<ipython-input-67-518bda0ebeaf>\u001b[0m in \u001b[0;36m<cell line: 5>\u001b[0;34m()\u001b[0m\n\u001b[1;32m      3\u001b[0m \u001b[0mC\u001b[0m \u001b[0;34m=\u001b[0m \u001b[0mnp\u001b[0m\u001b[0;34m.\u001b[0m\u001b[0marray\u001b[0m\u001b[0;34m(\u001b[0m\u001b[0;34m[\u001b[0m\u001b[0;34m[\u001b[0m\u001b[0;36m1\u001b[0m\u001b[0;34m,\u001b[0m\u001b[0;36m2\u001b[0m\u001b[0;34m]\u001b[0m\u001b[0;34m,\u001b[0m\u001b[0;34m[\u001b[0m\u001b[0;36m3\u001b[0m\u001b[0;34m,\u001b[0m\u001b[0;36m4\u001b[0m\u001b[0;34m]\u001b[0m\u001b[0;34m]\u001b[0m\u001b[0;34m)\u001b[0m\u001b[0;34m\u001b[0m\u001b[0;34m\u001b[0m\u001b[0m\n\u001b[1;32m      4\u001b[0m \u001b[0mprint\u001b[0m\u001b[0;34m(\u001b[0m\u001b[0mC\u001b[0m\u001b[0;34m.\u001b[0m\u001b[0mshape\u001b[0m\u001b[0;34m)\u001b[0m\u001b[0;34m\u001b[0m\u001b[0;34m\u001b[0m\u001b[0m\n\u001b[0;32m----> 5\u001b[0;31m \u001b[0mnp\u001b[0m\u001b[0;34m.\u001b[0m\u001b[0mdot\u001b[0m\u001b[0;34m(\u001b[0m\u001b[0mA\u001b[0m\u001b[0;34m,\u001b[0m\u001b[0mC\u001b[0m\u001b[0;34m)\u001b[0m \u001b[0;31m# 행렬 곱이 불가능\u001b[0m\u001b[0;34m\u001b[0m\u001b[0;34m\u001b[0m\u001b[0m\n\u001b[0m",
            "\u001b[0;31mValueError\u001b[0m: shapes (2,3) and (2,2) not aligned: 3 (dim 1) != 2 (dim 0)"
          ]
        }
      ]
    },
    {
      "cell_type": "code",
      "source": [
        "A = np.array([[1,2],[3,4],[5,6]])\n",
        "print(A.shape)\n",
        "\n",
        "B = np.array([7,8])\n",
        "print(B.shape)\n",
        "np.dot(A,B)"
      ],
      "metadata": {
        "colab": {
          "base_uri": "https://localhost:8080/"
        },
        "id": "y-KHtVthn0Ge",
        "outputId": "2bbface2-062b-4baa-bb8d-2e8ccae0da0d"
      },
      "execution_count": 68,
      "outputs": [
        {
          "output_type": "stream",
          "name": "stdout",
          "text": [
            "(3, 2)\n",
            "(2,)\n"
          ]
        },
        {
          "output_type": "execute_result",
          "data": {
            "text/plain": [
              "array([23, 53, 83])"
            ]
          },
          "metadata": {},
          "execution_count": 68
        }
      ]
    },
    {
      "cell_type": "markdown",
      "source": [
        "## 신경망에서의 행렬곱"
      ],
      "metadata": {
        "id": "Tri0VrFdq1a0"
      }
    },
    {
      "cell_type": "code",
      "source": [
        "X = np.array([1,2])\n",
        "print(X.shape)\n",
        "\n",
        "W = np.array([[1,3,5],[2,4,6]])\n",
        "print(W)\n",
        "print(W.shape)"
      ],
      "metadata": {
        "colab": {
          "base_uri": "https://localhost:8080/"
        },
        "id": "jctGRSr4oQgd",
        "outputId": "54ba9572-b2ee-4138-c78f-5d6399aae1e1"
      },
      "execution_count": 69,
      "outputs": [
        {
          "output_type": "stream",
          "name": "stdout",
          "text": [
            "(2,)\n",
            "[[1 3 5]\n",
            " [2 4 6]]\n",
            "(2, 3)\n"
          ]
        }
      ]
    },
    {
      "cell_type": "code",
      "source": [
        "Y=np.dot(X,W)\n",
        "print(Y)"
      ],
      "metadata": {
        "colab": {
          "base_uri": "https://localhost:8080/"
        },
        "id": "ajUXYU2Mpo6G",
        "outputId": "eab0ad18-73b6-4493-ec33-553bc4d9f488"
      },
      "execution_count": 70,
      "outputs": [
        {
          "output_type": "stream",
          "name": "stdout",
          "text": [
            "[ 5 11 17]\n"
          ]
        }
      ]
    },
    {
      "cell_type": "markdown",
      "source": [
        "# 3.4 3층 신경망 구현하기"
      ],
      "metadata": {
        "id": "DZY4TybFq5dl"
      }
    },
    {
      "cell_type": "markdown",
      "source": [
        "## 표기법 설명\n",
        "## 각 층의 신호 전달 구현하기"
      ],
      "metadata": {
        "id": "mcrCzAV0q72j"
      }
    },
    {
      "cell_type": "code",
      "source": [
        "def sigmoid(x):\n",
        "    return 1 / (1+np.exp(-x))\n",
        "\n",
        "X = np.array([1.0, 0.5])\n",
        "W1 = np.array([[0.1, 0.3, 0.5],[0.2, 0.4, 0.6]])\n",
        "B1 = np.array([0.1, 0.2, 0.3])\n",
        "\n",
        "print(W1.shape) #(2,3)\n",
        "print(X.shape)  #(2,)\n",
        "print(B1.shape) #(3,)\n",
        "\n",
        "A1 = np.dot(X,W1)+B1\n",
        "Z1 = sigmoid(A1)\n",
        "\n",
        "print(A1)\n",
        "print(Z1)"
      ],
      "metadata": {
        "colab": {
          "base_uri": "https://localhost:8080/"
        },
        "id": "mgFn72ogptjD",
        "outputId": "3a9f3cfa-7732-444a-be67-d461da241bbc"
      },
      "execution_count": 71,
      "outputs": [
        {
          "output_type": "stream",
          "name": "stdout",
          "text": [
            "(2, 3)\n",
            "(2,)\n",
            "(3,)\n",
            "[0.3 0.7 1.1]\n",
            "[0.57444252 0.66818777 0.75026011]\n"
          ]
        }
      ]
    },
    {
      "cell_type": "code",
      "source": [
        "W2 = np.array([[0.1, 0.4],[0.2, 0.5], [0.3,0.6]])\n",
        "B2 = np.array([0.1, 0.2])\n",
        "\n",
        "print(Z1.shape) #(3,)\n",
        "print(W2.shape) #(3,2)\n",
        "print(B2.shape) #(2,)\n",
        "\n",
        "A2 = np.dot(Z1, W2) + B2\n",
        "Z2 = sigmoid(A2)"
      ],
      "metadata": {
        "colab": {
          "base_uri": "https://localhost:8080/"
        },
        "id": "e4386jg4sDmZ",
        "outputId": "4a04778f-fc67-4389-e182-f547253d1526"
      },
      "execution_count": 72,
      "outputs": [
        {
          "output_type": "stream",
          "name": "stdout",
          "text": [
            "(3,)\n",
            "(3, 2)\n",
            "(2,)\n"
          ]
        }
      ]
    },
    {
      "cell_type": "code",
      "source": [
        "def identity_function(x):\n",
        "    return x\n",
        "\n",
        "W3 = np.array([[0.1,0.3],[0.2,0.4]])\n",
        "B3 = np.array([0.1, 0.2])\n",
        "A3 = np.dot(Z2, W3)+B3\n",
        "Y = identity_function(A3)   #혹은 Y = A3\n",
        "print(Y)"
      ],
      "metadata": {
        "colab": {
          "base_uri": "https://localhost:8080/"
        },
        "id": "UMBlqCsGuqss",
        "outputId": "783fbfde-36f1-4492-fce6-b84fb9584784"
      },
      "execution_count": 73,
      "outputs": [
        {
          "output_type": "stream",
          "name": "stdout",
          "text": [
            "[0.31682708 0.69627909]\n"
          ]
        }
      ]
    },
    {
      "cell_type": "markdown",
      "source": [
        "## 구현 정리"
      ],
      "metadata": {
        "id": "Lng_CuUKv9wx"
      }
    },
    {
      "cell_type": "code",
      "source": [
        "# 가중치와 편향 초기화\n",
        "def init_network():\n",
        "    network = {}\n",
        "    network['W1'] = np.array([[0.1, 0.3, 0.5],[0.2, 0.4, 0.6]])\n",
        "    network['b1'] = np.array([0.1,0.2,0.3])\n",
        "    network['W2'] = np.array([[0.1, 0.4],[0.2, 0.5], [0.3,0.6]])\n",
        "    network['b2'] = np.array([0.1, 0.2])\n",
        "    network['W3'] = np.array([[0.1,0.3],[0.2,0.4]])\n",
        "    network['b3'] = np.array([0.1, 0.2])\n",
        "\n",
        "    return network\n",
        "\n",
        "#순방향(입력 -> 출력방향)으로 전달됨\n",
        "def forward(network, x):\n",
        "    W1, W2, W3 = network['W1'], network['W2'], network['W3']\n",
        "    b1, b2, b3 = network['b1'], network['b2'], network['b3']\n",
        "\n",
        "    a1 = np.dot(x, W1)+b1\n",
        "    z1 = sigmoid(a1)\n",
        "    a2 = np.dot(z1, W2)+b2\n",
        "    z2 = sigmoid(a2)\n",
        "    a3 = np.dot(z2, W3)+b3\n",
        "    y = identity_function(a3)\n",
        "\n",
        "    return y\n",
        "\n",
        "network = init_network()\n",
        "x = np.array([1.0, 0.5])\n",
        "y = forward(network, x)\n",
        "print(y)"
      ],
      "metadata": {
        "colab": {
          "base_uri": "https://localhost:8080/"
        },
        "id": "AQC91N3UvVPj",
        "outputId": "349cb241-89d9-4edd-f46b-da10dd147ab8"
      },
      "execution_count": 74,
      "outputs": [
        {
          "output_type": "stream",
          "name": "stdout",
          "text": [
            "[0.31682708 0.69627909]\n"
          ]
        }
      ]
    },
    {
      "cell_type": "markdown",
      "source": [
        "# 3.5 출력층 설계하기\n"
      ],
      "metadata": {
        "id": "RAdfTNhUyke1"
      }
    },
    {
      "cell_type": "code",
      "source": [
        " a = np.array([0.3, 2.9, 4.0])\n",
        " exp_a = np.exp(a)  #지수함수\n",
        " print(exp_a)"
      ],
      "metadata": {
        "colab": {
          "base_uri": "https://localhost:8080/"
        },
        "id": "Tbe3yCfww8eC",
        "outputId": "665b760d-a22d-4d54-fd20-e25bc62e1d01"
      },
      "execution_count": 75,
      "outputs": [
        {
          "output_type": "stream",
          "name": "stdout",
          "text": [
            "[ 1.34985881 18.17414537 54.59815003]\n"
          ]
        }
      ]
    },
    {
      "cell_type": "code",
      "source": [
        "sum_exp_a = np.sum(exp_a)   #지수함수의 합\n",
        "sum_exp_a"
      ],
      "metadata": {
        "colab": {
          "base_uri": "https://localhost:8080/"
        },
        "id": "T9LM9a-gyxB8",
        "outputId": "491e277f-6a6e-40d6-cc3d-31b1f1e5945c"
      },
      "execution_count": 76,
      "outputs": [
        {
          "output_type": "execute_result",
          "data": {
            "text/plain": [
              "74.1221542101633"
            ]
          },
          "metadata": {},
          "execution_count": 76
        }
      ]
    },
    {
      "cell_type": "code",
      "source": [
        "y = exp_a / sum_exp_a\n",
        "print(y)"
      ],
      "metadata": {
        "colab": {
          "base_uri": "https://localhost:8080/"
        },
        "id": "lImMoynzy006",
        "outputId": "d4d5778e-0cc8-4f2f-e66e-22980155ef61"
      },
      "execution_count": 77,
      "outputs": [
        {
          "output_type": "stream",
          "name": "stdout",
          "text": [
            "[0.01821127 0.24519181 0.73659691]\n"
          ]
        }
      ]
    },
    {
      "cell_type": "code",
      "source": [
        "def softmax(a):\n",
        "    exp_a = np.exp(a)\n",
        "    sum_exp_a =np.sum(exp_a)\n",
        "    y = exp_a / sum_exp_a\n",
        "\n",
        "    return y"
      ],
      "metadata": {
        "id": "mGQBEiqzy6Vs"
      },
      "execution_count": 78,
      "outputs": []
    },
    {
      "cell_type": "markdown",
      "source": [
        "## 소프트맥스 함수 구현시 주의점"
      ],
      "metadata": {
        "id": "TSH9T4p_2y-T"
      }
    },
    {
      "cell_type": "code",
      "source": [
        "# 기본\n",
        "a = np.array([1010, 1000, 990])\n",
        "np.exp(a) / np.sum(np.exp(a))   #소프트맥스 함수의 계산 -> 오버플로 발생"
      ],
      "metadata": {
        "colab": {
          "base_uri": "https://localhost:8080/"
        },
        "id": "kmtj1I72zFaX",
        "outputId": "7420bd52-5e28-4b65-8f06-2ebedc982a15"
      },
      "execution_count": 79,
      "outputs": [
        {
          "output_type": "stream",
          "name": "stderr",
          "text": [
            "<ipython-input-79-dc9f2e4b3efb>:3: RuntimeWarning: overflow encountered in exp\n",
            "  np.exp(a) / np.sum(np.exp(a))   #소프트맥스 함수의 계산 -> 오버플로 발생\n",
            "<ipython-input-79-dc9f2e4b3efb>:3: RuntimeWarning: invalid value encountered in divide\n",
            "  np.exp(a) / np.sum(np.exp(a))   #소프트맥스 함수의 계산 -> 오버플로 발생\n"
          ]
        },
        {
          "output_type": "execute_result",
          "data": {
            "text/plain": [
              "array([nan, nan, nan])"
            ]
          },
          "metadata": {},
          "execution_count": 79
        }
      ]
    },
    {
      "cell_type": "code",
      "source": [
        "# 개선\n",
        "c = np.max(a)   # c = 1010(최댓값)\n",
        "a-c"
      ],
      "metadata": {
        "colab": {
          "base_uri": "https://localhost:8080/"
        },
        "id": "rSeb-Kl625Bw",
        "outputId": "eca6fe7f-c694-4d1a-b73e-c6f35a65a493"
      },
      "execution_count": 80,
      "outputs": [
        {
          "output_type": "execute_result",
          "data": {
            "text/plain": [
              "array([  0, -10, -20])"
            ]
          },
          "metadata": {},
          "execution_count": 80
        }
      ]
    },
    {
      "cell_type": "code",
      "source": [
        "np.exp(a-c) / np.sum(np.exp(a-c))"
      ],
      "metadata": {
        "colab": {
          "base_uri": "https://localhost:8080/"
        },
        "id": "n2KWed1Y3FDH",
        "outputId": "13fac3d4-668c-42a5-acb6-08c64202e2b0"
      },
      "execution_count": 81,
      "outputs": [
        {
          "output_type": "execute_result",
          "data": {
            "text/plain": [
              "array([9.99954600e-01, 4.53978686e-05, 2.06106005e-09])"
            ]
          },
          "metadata": {},
          "execution_count": 81
        }
      ]
    },
    {
      "cell_type": "code",
      "source": [
        "# 개선한 소프트맥스\n",
        "def softmax(a):\n",
        "    c = np.max(a)\n",
        "    exp_a = np.exp(a-c) #오버플로 대책\n",
        "    sum_exp_a = np.sum(exp_a)\n",
        "    y = exp_a / sum_exp_a\n",
        "\n",
        "    return y"
      ],
      "metadata": {
        "id": "ulXj13D63Ia4"
      },
      "execution_count": 82,
      "outputs": []
    },
    {
      "cell_type": "markdown",
      "source": [
        "## 소프트맥스 함수의 특징\n",
        "- 소프트맥스 함수의 출력은 0에서 1.0사이의 실수이다\n",
        "- 소프트맥스 출력의 총합은 1이다\n",
        "\n",
        "위 성질들로, 소프트맥스 함수의 출력을 '확률'로 해석할 수 있다.\n",
        "- 주의할 점은 소프트맥스함수를 적용해도 각 원소의 대소관계는 변하지 않는다.(a의 원소들 사이의 대소관계가  y의 원소들 사이의 대소관계로 그대로 이어진다. exp(x)가 단조 증가 함수이기 때문)\n",
        "- 신경망을 이용한 분류(classification)에서는 일반적으로 가장 큰 출력을 내는 뉴런에 해당하는 클래스로만 인식하며, 소프트맥스 함수를 적용해도 출력이 가장 큰 뉴런의 위치는 달라지지 않는다. <- **추론 과정**에서 신경망 분류시 출력층의 소프트맥스 함수를 생략해도 된다.\n",
        "- **신경망을 학습 시킬 때**는 출력층에서 소프트맥스 함수를 사용한다."
      ],
      "metadata": {
        "id": "jZSzNzbr4VFH"
      }
    },
    {
      "cell_type": "code",
      "source": [
        "a = np.array([0.3, 2.9, 4.0])\n",
        "y = softmax(a)\n",
        "print(y)"
      ],
      "metadata": {
        "colab": {
          "base_uri": "https://localhost:8080/"
        },
        "id": "deElZOA83dji",
        "outputId": "4710193f-ae81-493a-bff0-3a515019dfbd"
      },
      "execution_count": 83,
      "outputs": [
        {
          "output_type": "stream",
          "name": "stdout",
          "text": [
            "[0.01821127 0.24519181 0.73659691]\n"
          ]
        }
      ]
    },
    {
      "cell_type": "code",
      "source": [
        "np.sum(y)"
      ],
      "metadata": {
        "colab": {
          "base_uri": "https://localhost:8080/"
        },
        "id": "00t9G4ik3m49",
        "outputId": "7b30d6fd-5430-485d-f904-85f457d9578e"
      },
      "execution_count": 84,
      "outputs": [
        {
          "output_type": "execute_result",
          "data": {
            "text/plain": [
              "1.0"
            ]
          },
          "metadata": {},
          "execution_count": 84
        }
      ]
    },
    {
      "cell_type": "markdown",
      "source": [
        "## 출력층의 뉴런 수 정하기\n",
        "- **출력층의 뉴런 수**는 풀려는 문제에 맞게 적절히 정해야한다.(은닉층의 뉴런수는 학습시켜가며 조정해야한다.)\n",
        "- classification에서는 **분류하고 싶은 클래스 수**로 설정하는 것이 일반적이다."
      ],
      "metadata": {
        "id": "QVBnXE9q5acg"
      }
    },
    {
      "cell_type": "markdown",
      "source": [
        "# 3.6 손글씨 숫자 인식\n",
        "## MNIST 데이터 셋\n",
        "- 코랩 환경 세팅 : https://bottle-an00.tistory.com/47\n",
        "- [MNIST 서버 다운으로 인한 대체 사이트 링크](https://github.com/oreilly-japan/deep-learning-from-scratch/commit/497a4ac8859dce7a3b4819edf695364afe73fcda#diff-76274e4fdfe308fbaefa310b10ec779ffea85648f6ab3aff271c6a45c0ee28d1R14)"
      ],
      "metadata": {
        "id": "bMWoJHwT6PZt"
      }
    },
    {
      "cell_type": "code",
      "source": [
        "from google.colab import drive\n",
        "drive.mount('/content/drive')"
      ],
      "metadata": {
        "colab": {
          "base_uri": "https://localhost:8080/"
        },
        "id": "V3yQMqouvNxL",
        "outputId": "f9c8c857-e5d2-49d6-bfca-be26b96907a4"
      },
      "execution_count": 85,
      "outputs": [
        {
          "output_type": "stream",
          "name": "stdout",
          "text": [
            "Drive already mounted at /content/drive; to attempt to forcibly remount, call drive.mount(\"/content/drive\", force_remount=True).\n"
          ]
        }
      ]
    },
    {
      "cell_type": "code",
      "source": [
        "import sys, os\n",
        "sys.path.append('/content/drive/MyDrive/github/deep-learning-from-scratch1')    #코랩 내 실습으로 인한 코드 변경\n",
        "from dataset.mnist import load_mnist    # mnist.py의 url_base부분을 대체 사이트로 변경 후 작동"
      ],
      "metadata": {
        "id": "XhOzd3bqZRqY"
      },
      "execution_count": 86,
      "outputs": []
    },
    {
      "cell_type": "code",
      "source": [
        "(x_train, t_train), (x_test, t_test) = load_mnist(flatten = True, normalize = False)\n",
        "\n",
        "#각 형상 데이터 출력\n",
        "print(x_train.shape)    #(60000, 784)\n",
        "print(t_train.shape)    #(60000,)\n",
        "print(x_test.shape) #(10000,784)\n",
        "print(t_test.shape) #(10000,)"
      ],
      "metadata": {
        "colab": {
          "base_uri": "https://localhost:8080/"
        },
        "id": "D8HP6cgl8wHk",
        "outputId": "f1869821-1b68-49fc-b827-25766f5c2d91"
      },
      "execution_count": 87,
      "outputs": [
        {
          "output_type": "stream",
          "name": "stdout",
          "text": [
            "(60000, 784)\n",
            "(60000,)\n",
            "(10000, 784)\n",
            "(10000,)\n"
          ]
        }
      ]
    },
    {
      "cell_type": "markdown",
      "source": [
        "### `mnist_show.py`\n",
        "- [구글 코랩에서 `img_show()`가 동작되지 않을 때](https://lapina.tistory.com/81)"
      ],
      "metadata": {
        "id": "eFUzphBbcJbb"
      }
    },
    {
      "cell_type": "code",
      "source": [
        "import sys, os\n",
        "sys.path.append('/content/drive/MyDrive/github/deep-learning-from-scratch1')    #코랩 내 실습으로 인한 코드 변경\n",
        "import numpy as np\n",
        "from dataset.mnist import load_mnist\n",
        "# from PIL import Image\n",
        "from matplotlib.pyplot import imshow    #img_show 대체 함수\n",
        "\n",
        "# def img_show(img):\n",
        "#     pil_img = Image.fromarray(np.uint8(img))\n",
        "#     pil_img.show()\n",
        "\n",
        "(x_train, t_train), (x_test, t_test) = load_mnist(flatten=True, normalize = False)\n",
        "img = x_train[0]\n",
        "label = t_train[0]\n",
        "print(label)    # 5\n",
        "\n",
        "print(img.shape)    #(784,)\n",
        "img = img.reshape(28, 28)   #원래 이미지의 모양으로 변형\n",
        "print(img.shape)    #(28,28)\n",
        "\n",
        "# img_show(img)   #온라인 파이썬 환경에서는 작동 X\n",
        "imshow(img, cmap = 'gray')  #img_show 대체 함수로 matplotlib 사용"
      ],
      "metadata": {
        "colab": {
          "base_uri": "https://localhost:8080/",
          "height": 499
        },
        "id": "YUy_5cAV89WL",
        "outputId": "45bcccff-a0a3-488c-cb43-bccef45be628"
      },
      "execution_count": 88,
      "outputs": [
        {
          "output_type": "stream",
          "name": "stdout",
          "text": [
            "5\n",
            "(784,)\n",
            "(28, 28)\n"
          ]
        },
        {
          "output_type": "execute_result",
          "data": {
            "text/plain": [
              "<matplotlib.image.AxesImage at 0x7d09a51fe530>"
            ]
          },
          "metadata": {},
          "execution_count": 88
        },
        {
          "output_type": "display_data",
          "data": {
            "text/plain": [
              "<Figure size 640x480 with 1 Axes>"
            ],
            "image/png": "[encoded data removed]"
          },
          "metadata": {}
        }
      ]
    },
    {
      "cell_type": "markdown",
      "source": [
        "## 신경망의 추론 처리\n"
      ],
      "metadata": {
        "id": "3-eJ0nsmf2XB"
      }
    },
    {
      "cell_type": "code",
      "source": [
        "def sigmoid(x):\n",
        "    return 1 / (1+np.exp(-x))\n",
        "\n",
        "def softmax(a):\n",
        "    c = np.max(a)\n",
        "    exp_a = np.exp(a-c)\n",
        "    sum_exp_a = np.sum(exp_a)\n",
        "    y = exp_a / sum_exp_a\n",
        "\n",
        "    return y"
      ],
      "metadata": {
        "id": "gnZdZMhQhSN4"
      },
      "execution_count": 89,
      "outputs": []
    },
    {
      "cell_type": "markdown",
      "source": [
        "### `neuralnet_mnist.py`"
      ],
      "metadata": {
        "id": "WIrVvKr0hRxL"
      }
    },
    {
      "cell_type": "code",
      "source": [
        "import numpy as np\n",
        "import pickle\n",
        "\n",
        "def get_data():\n",
        "    (x_train, t_train), (x_test, t_test) = load_mnist(normalize = True, flatten = True, one_hot_label = False)\n",
        "    return x_test, t_test\n",
        "\n",
        "def init_network():\n",
        "    with open(\"/content/drive/MyDrive/github/deep-learning-from-scratch1/dataset/sample_weight.pkl\",'rb') as f:\n",
        "        network = pickle.load(f)\n",
        "\n",
        "    return network\n",
        "\n",
        "def predict(network, x):\n",
        "    W1, W2, W3 = network['W1'], network['W2'], network['W3']\n",
        "    b1, b2, b3 = network['b1'], network['b2'], network['b3']\n",
        "\n",
        "    a1 = np.dot(x,W1) + b1\n",
        "    z1 = sigmoid(a1)\n",
        "    a2 = np.dot(z1,W2) + b2\n",
        "    z2 = sigmoid(a2)\n",
        "    a3 = np.dot(z2,W3) + b3\n",
        "    y = softmax(a3)\n",
        "\n",
        "    return y"
      ],
      "metadata": {
        "id": "RTGEpCzmc3TA"
      },
      "execution_count": 90,
      "outputs": []
    },
    {
      "cell_type": "code",
      "source": [
        "x, t = get_data()\n",
        "network = init_network()\n",
        "\n",
        "accuracy_cnt = 0\n",
        "for i in range(len(x)):\n",
        "    y = predict(network, x[i])\n",
        "    p = np.argmax(y)    # 확률이 가장 높은 원소의 인덱스를 얻는다.\n",
        "    if p == t[i]:\n",
        "        accuracy_cnt +=1\n",
        "print(\"Accuracy : \" + str(float(accuracy_cnt) / len(x)))"
      ],
      "metadata": {
        "colab": {
          "base_uri": "https://localhost:8080/"
        },
        "id": "LqPEoY-yc-Z9",
        "outputId": "740ebbda-2594-4d2b-a199-1095291ad6ea"
      },
      "execution_count": 91,
      "outputs": [
        {
          "output_type": "stream",
          "name": "stdout",
          "text": [
            "Accuracy : 0.9352\n"
          ]
        }
      ]
    },
    {
      "cell_type": "markdown",
      "source": [
        "## 배치처리"
      ],
      "metadata": {
        "id": "GLA6B5gPlQqG"
      }
    },
    {
      "cell_type": "code",
      "source": [
        "x, _ = get_data()\n",
        "network = init_network()\n",
        "W1, W2, W3 = network['W1'], network['W2'], network['W3']"
      ],
      "metadata": {
        "id": "4bW4VuBRiOFv"
      },
      "execution_count": 92,
      "outputs": []
    },
    {
      "cell_type": "code",
      "source": [
        "x.shape"
      ],
      "metadata": {
        "colab": {
          "base_uri": "https://localhost:8080/"
        },
        "id": "3kDm2GRKkdRq",
        "outputId": "98f3dd5e-dc1a-45f2-e7f4-c06fc85e5570"
      },
      "execution_count": 93,
      "outputs": [
        {
          "output_type": "execute_result",
          "data": {
            "text/plain": [
              "(10000, 784)"
            ]
          },
          "metadata": {},
          "execution_count": 93
        }
      ]
    },
    {
      "cell_type": "code",
      "source": [
        "x[0].shape"
      ],
      "metadata": {
        "colab": {
          "base_uri": "https://localhost:8080/"
        },
        "id": "N9cymnc3kecM",
        "outputId": "98f467bb-ac39-4ab1-a7d1-e9a70e50196a"
      },
      "execution_count": 94,
      "outputs": [
        {
          "output_type": "execute_result",
          "data": {
            "text/plain": [
              "(784,)"
            ]
          },
          "metadata": {},
          "execution_count": 94
        }
      ]
    },
    {
      "cell_type": "code",
      "source": [
        "print(W1.shape)\n",
        "print(W2.shape)\n",
        "print(W3.shape)"
      ],
      "metadata": {
        "colab": {
          "base_uri": "https://localhost:8080/"
        },
        "id": "kBuz_33vkf_y",
        "outputId": "12b23709-3418-4c58-cf19-68bda341f61e"
      },
      "execution_count": 95,
      "outputs": [
        {
          "output_type": "stream",
          "name": "stdout",
          "text": [
            "(784, 50)\n",
            "(50, 100)\n",
            "(100, 10)\n"
          ]
        }
      ]
    },
    {
      "cell_type": "code",
      "source": [
        "# 배치처리 구현\n",
        "x, t = get_data()\n",
        "network = init_network()\n",
        "\n",
        "batch_size = 100    #배치 크기\n",
        "accuracy_cnt = 0\n",
        "for i in range(0, len(x), batch_size):\n",
        "    x_batch = x[i:i+batch_size] #batch_size만큼 잘라서 100개만 먼저학습\n",
        "    y_batch = predict(network,x_batch)\n",
        "    p = np.argmax(y_batch, axis = 1)\n",
        "    accuracy_cnt += np.sum(p == t[i:i+batch_size])\n",
        "\n",
        "print(\"Accuracy : \"+str(float(accuracy_cnt)/len(x)))"
      ],
      "metadata": {
        "colab": {
          "base_uri": "https://localhost:8080/"
        },
        "id": "N6GC2HfkkjiP",
        "outputId": "3dffe645-dfcb-4489-8656-6619f2ccc6a9"
      },
      "execution_count": 96,
      "outputs": [
        {
          "output_type": "stream",
          "name": "stdout",
          "text": [
            "Accuracy : 0.9352\n"
          ]
        }
      ]
    },
    {
      "cell_type": "code",
      "source": [
        "# range() 함수\n",
        "print(list(range(0,10)))\n",
        "print(list(range(0, 10, 3)))"
      ],
      "metadata": {
        "colab": {
          "base_uri": "https://localhost:8080/"
        },
        "id": "HFKGZN0PmF1M",
        "outputId": "bde2bdb9-03b8-4561-c7f3-397bc7da0859"
      },
      "execution_count": 97,
      "outputs": [
        {
          "output_type": "stream",
          "name": "stdout",
          "text": [
            "[0, 1, 2, 3, 4, 5, 6, 7, 8, 9]\n",
            "[0, 3, 6, 9]\n"
          ]
        }
      ]
    },
    {
      "cell_type": "code",
      "source": [
        "# argmax()의 axis = 1\n",
        "x = np.array([[0.1, 0.8, 0.1], [0.3, 0.1, 0.6], [0.2, 0.5, 0.3], [0.8, 0.1, 0.1]])\n",
        "y = np.argmax(x, axis = 1)\n",
        "y2 = np.argmax(x, axis = 0)\n",
        "print(y)\n",
        "print(y2)"
      ],
      "metadata": {
        "colab": {
          "base_uri": "https://localhost:8080/"
        },
        "id": "Xh5HBu_pl8vG",
        "outputId": "ddd7ecf5-820b-4c0b-a7f1-30531e347af0"
      },
      "execution_count": 98,
      "outputs": [
        {
          "output_type": "stream",
          "name": "stdout",
          "text": [
            "[1 2 1 0]\n",
            "[3 0 1]\n"
          ]
        }
      ]
    },
    {
      "cell_type": "code",
      "source": [
        "y = np.array([1,2,1,0])\n",
        "t = np.array([1,2,0,0])\n",
        "print(y == t)"
      ],
      "metadata": {
        "colab": {
          "base_uri": "https://localhost:8080/"
        },
        "id": "zblZV4FLm1xD",
        "outputId": "e8263828-d5d7-4cbc-da64-306d9909d3a9"
      },
      "execution_count": 99,
      "outputs": [
        {
          "output_type": "stream",
          "name": "stdout",
          "text": [
            "[ True  True False  True]\n"
          ]
        }
      ]
    },
    {
      "cell_type": "code",
      "source": [
        "np.sum(y==t)"
      ],
      "metadata": {
        "colab": {
          "base_uri": "https://localhost:8080/"
        },
        "id": "g3qqvXh0o_Kc",
        "outputId": "49ff8bdd-29e1-4328-fe8c-be63d2c246c4"
      },
      "execution_count": 100,
      "outputs": [
        {
          "output_type": "execute_result",
          "data": {
            "text/plain": [
              "3"
            ]
          },
          "metadata": {},
          "execution_count": 100
        }
      ]
    },
    {
      "cell_type": "code",
      "source": [],
      "metadata": {
        "id": "47BBWyBSpBGX"
      },
      "execution_count": 100,
      "outputs": []
    }
  ]
}