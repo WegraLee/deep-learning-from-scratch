{
  "nbformat": 4,
  "nbformat_minor": 0,
  "metadata": {
    "colab": {
      "provenance": [],
      "authorship_tag": "ABX9TyOX7Qoy6aPRCS1z2Sm1+PYM",
      "include_colab_link": true
    },
    "kernelspec": {
      "name": "python3",
      "display_name": "Python 3"
    },
    "language_info": {
      "name": "python"
    }
  },
  "cells": [
    {
      "cell_type": "markdown",
      "metadata": {
        "id": "view-in-github",
        "colab_type": "text"
      },
      "source": [
        "<a href=\"https://colab.research.google.com/github/gagyeomkim/deep-learning-from-scratch1/blob/gagyeomkim/ch2_%ED%8D%BC%EC%85%89%ED%8A%B8%EB%A1%A0.ipynb\" target=\"_parent\"><img src=\"https://colab.research.google.com/assets/colab-badge.svg\" alt=\"Open In Colab\"/></a>"
      ]
    },
    {
      "cell_type": "markdown",
      "source": [
        "# 2.1 퍼셉트론이란?\n",
        "퍼셉트론은 다수의 신호를 입력으로 받아 하나의 신호를 출력한다.\n",
        "- **신호**는 **흐름**이 있는 것을 상상하는 것이 좋다.\n",
        "\n"
      ],
      "metadata": {
        "id": "vasMPkW68d0P"
      }
    },
    {
      "cell_type": "markdown",
      "source": [
        "# 2.2 단순한 논리회로\n",
        "## AND 게이트\n",
        "## NAND 게이트와 OR 게이트\n",
        "\n",
        "세가지 게이트에서 다른 것은 매개변수(가중치, 임계값) 뿐이다. 즉, **똑같은 구조의 퍼셉트론**이 매개변수의 값만 적절히 조정하여 AND, NAND, OR로 변하는 것이다."
      ],
      "metadata": {
        "id": "mLO4hsXc_-jX"
      }
    },
    {
      "cell_type": "code",
      "execution_count": 1,
      "metadata": {
        "colab": {
          "base_uri": "https://localhost:8080/"
        },
        "id": "fBPmlyy07h1H",
        "outputId": "0b0b1e6c-747e-418c-afd1-337f801623cb"
      },
      "outputs": [
        {
          "output_type": "stream",
          "name": "stdout",
          "text": [
            "0\n",
            "0\n",
            "0\n",
            "1\n"
          ]
        }
      ],
      "source": [
        "def AND(x1, x2):\n",
        "    w1, w2, theta = 0.5, 0.5, 0.7\n",
        "    tmp = x1*w1 + x2*w2\n",
        "    if tmp <= theta:\n",
        "        return 0\n",
        "    elif tmp > theta:\n",
        "        return 1\n",
        "\n",
        "print(AND(0, 0))    #0을 출력\n",
        "print(AND(1, 0))    #0을 출력\n",
        "print(AND(0, 1))    #0을 출력\n",
        "print(AND(1, 1))    #1을 출력"
      ]
    },
    {
      "cell_type": "markdown",
      "source": [
        "## 가중치와 편향 도입"
      ],
      "metadata": {
        "id": "q0zXULsJCDrc"
      }
    },
    {
      "cell_type": "code",
      "source": [
        "import numpy as np\n",
        "x = np.array([0, 1])    #입력\n",
        "w = np.array([0.5, 0.5])    #가중치\n",
        "b = -0.7    #편향\n",
        "\n",
        "w*x # 원소별 곱셈"
      ],
      "metadata": {
        "colab": {
          "base_uri": "https://localhost:8080/"
        },
        "id": "IPntwDuZAuT9",
        "outputId": "0a7bbea1-94d5-4d39-bc9a-a58ec4763282"
      },
      "execution_count": 6,
      "outputs": [
        {
          "output_type": "execute_result",
          "data": {
            "text/plain": [
              "array([0. , 0.5])"
            ]
          },
          "metadata": {},
          "execution_count": 6
        }
      ]
    },
    {
      "cell_type": "code",
      "source": [
        "np.sum(w*x)"
      ],
      "metadata": {
        "colab": {
          "base_uri": "https://localhost:8080/"
        },
        "id": "zxYwGlRfCOmZ",
        "outputId": "df6d67e7-646f-4a99-9478-6f97dc6e91b9"
      },
      "execution_count": 7,
      "outputs": [
        {
          "output_type": "execute_result",
          "data": {
            "text/plain": [
              "0.5"
            ]
          },
          "metadata": {},
          "execution_count": 7
        }
      ]
    },
    {
      "cell_type": "code",
      "source": [
        "np.sum(w*x)+b   #대량 -0.2(부동 소수점 수에 의한 연산 오차)"
      ],
      "metadata": {
        "colab": {
          "base_uri": "https://localhost:8080/"
        },
        "id": "gmzVjXxRCVct",
        "outputId": "efa1b81d-fd9c-4c3d-ef86-6c6300d817b5"
      },
      "execution_count": 8,
      "outputs": [
        {
          "output_type": "execute_result",
          "data": {
            "text/plain": [
              "-0.19999999999999996"
            ]
          },
          "metadata": {},
          "execution_count": 8
        }
      ]
    },
    {
      "cell_type": "markdown",
      "source": [
        "## 가중치와 편향 구현하기\n",
        "편향 b는 가중치 w1, w2와 기능이 다르다.\n",
        "- 가중치 w1, w2 : 각 입력 신호가 결과에 주는 영향력(중요도)을 조절하는 매개변수\n",
        "- 편향 : 뉴런이 얼마나 쉽게 활성화(결과로 1을 출력)하느냐를 조정하는 매개변수"
      ],
      "metadata": {
        "id": "MNpeNT4FDOYw"
      }
    },
    {
      "cell_type": "code",
      "source": [
        "#가중치와 편향을 도입한 AND 게이트\n",
        "def AND(x1, x2):\n",
        "    x = np.array([x1, x2])\n",
        "    w = np.array([0.5, 0.5])\n",
        "    b = -0.7\n",
        "    tmp = np.sum(w*x)+b\n",
        "    if tmp <= 0:\n",
        "        return 0\n",
        "    else:\n",
        "        return 1\n",
        "\n",
        "#NAND 게이트\n",
        "def NAND(x1, x2):\n",
        "    x = np.array([x1, x2])\n",
        "    w = np.array([-0.5, -0.5])  #AND와는 가중치(w와 b)만 다르다.\n",
        "    b = 0.7\n",
        "    tmp = np.sum(w*x)+b\n",
        "    if tmp<=0:\n",
        "        return 0\n",
        "    else:\n",
        "        return 1\n",
        "\n",
        "#OR 게이트\n",
        "def OR(x1, x2):\n",
        "    x = np.array([x1, x2])\n",
        "    w = np.array([0.5, 0.5])    #AND와는 가중치 (w와 b)만 다르다\n",
        "    b = -0.2\n",
        "    tmp = np.sum(w*x)+b\n",
        "    if tmp<=0:\n",
        "        return 0\n",
        "    else:\n",
        "        return 1"
      ],
      "metadata": {
        "id": "_QMqygn9DONz"
      },
      "execution_count": null,
      "outputs": []
    },
    {
      "cell_type": "markdown",
      "source": [
        "# 2.4 퍼셉트론의 한계\n",
        "## 도전! XOR 게이트\n",
        "## 선형과 비선형\n",
        "**단층** 퍼셉트론은 **직선 하나로 나눈 영역**만 표현할 수 있다는 한계가 있다.\n",
        "- **비선형** 영역 : 곡선의 영역\n",
        "- **선형** 영역 : 직선의 영역\n"
      ],
      "metadata": {
        "id": "WGfIzdswEjCM"
      }
    },
    {
      "cell_type": "markdown",
      "source": [
        "# 2.5 다층 퍼셉트론이 출동한다면\n",
        "## 기존 게이트 조합하기\n",
        "||AND||\n",
        "|:---:|:---:|:---:|\n",
        "|0|0|0|\n",
        "|1|0|0|\n",
        "|0|1|0|\n",
        "|1|1|1|\n",
        "\n",
        "||NAND||\n",
        "|:---:|:---:|:---:|\n",
        "|0|0|1|\n",
        "|1|0|1|\n",
        "|0|1|1|\n",
        "|1|1|0|\n",
        "\n",
        "||OR||\n",
        "|:---:|:---:|:---:|\n",
        "|0|0|0|\n",
        "|1|0|1|\n",
        "|0|1|1|\n",
        "|1|1|1|\n",
        "\n",
        "||XOR||\n",
        "|:---:|:---:|:---:|\n",
        "|0|0|0|\n",
        "|1|0|1|\n",
        "|0|1|1|\n",
        "|1|1|0|\n",
        "\n",
        "XOR게이트는 OR, NAND의 출력값을 AND 연산하면 얻을 수 있다."
      ],
      "metadata": {
        "id": "JWbhDED4GajM"
      }
    },
    {
      "cell_type": "markdown",
      "source": [
        "## XOR 게이트 구현하기"
      ],
      "metadata": {
        "id": "bznEcsGtIN10"
      }
    },
    {
      "cell_type": "code",
      "source": [
        "#가중치와 편향을 도입한 AND 게이트\n",
        "def AND(x1, x2):\n",
        "    x = np.array([x1, x2])\n",
        "    w = np.array([0.5, 0.5])\n",
        "    b = -0.7\n",
        "    tmp = np.sum(w*x)+b\n",
        "    if tmp <= 0:\n",
        "        return 0\n",
        "    else:\n",
        "        return 1\n",
        "\n",
        "#NAND 게이트\n",
        "def NAND(x1, x2):\n",
        "    x = np.array([x1, x2])\n",
        "    w = np.array([-0.5, -0.5])  #AND와는 가중치(w와 b)만 다르다.\n",
        "    b = 0.7\n",
        "    tmp = np.sum(w*x)+b\n",
        "    if tmp<=0:\n",
        "        return 0\n",
        "    else:\n",
        "        return 1\n",
        "\n",
        "#OR 게이트\n",
        "def OR(x1, x2):\n",
        "    x = np.array([x1, x2])\n",
        "    w = np.array([0.5, 0.5])    #AND와는 가중치 (w와 b)만 다르다\n",
        "    b = -0.2\n",
        "    tmp = np.sum(w*x)+b\n",
        "    if tmp<=0:\n",
        "        return 0\n",
        "    else:\n",
        "        return 1"
      ],
      "metadata": {
        "id": "JE_6KKtqCXzF"
      },
      "execution_count": 10,
      "outputs": []
    },
    {
      "cell_type": "code",
      "source": [
        "def XOR(x1, x2):\n",
        "    s1 = NAND(x1, x2)\n",
        "    s2 = OR(x1, x2)\n",
        "    y = AND(s1, s2)\n",
        "    return y\n",
        "print(XOR(0,0)) #0을 출력\n",
        "print(XOR(0,1)) #1을 출력\n",
        "print(XOR(1,0)) #1을 출력\n",
        "print(XOR(1,1)) #0을 출력"
      ],
      "metadata": {
        "colab": {
          "base_uri": "https://localhost:8080/"
        },
        "id": "MY9EGXnBGpaT",
        "outputId": "2a5e55d8-c7ff-412d-aa6f-591614eb2a8c"
      },
      "execution_count": 11,
      "outputs": [
        {
          "output_type": "stream",
          "name": "stdout",
          "text": [
            "0\n",
            "1\n",
            "1\n",
            "0\n"
          ]
        }
      ]
    },
    {
      "cell_type": "markdown",
      "source": [
        "# 2.6 NAND에서 컴퓨터까지\n",
        "퍼셉트론은 층을 거듭 쌓으면 비선형적인 표현도 가능하고, 이론상 컴퓨터가 수행하는 처리도 모두 표현할 수 있다."
      ],
      "metadata": {
        "id": "u_PmYL1-JS5X"
      }
    }
  ]
}